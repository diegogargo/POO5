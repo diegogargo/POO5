{
  "nbformat": 4,
  "nbformat_minor": 0,
  "metadata": {
    "colab": {
      "provenance": []
    },
    "kernelspec": {
      "name": "python3",
      "display_name": "Python 3"
    },
    "language_info": {
      "name": "python"
    }
  },
  "cells": [
    {
      "cell_type": "markdown",
      "source": [
        "##Matrices"
      ],
      "metadata": {
        "id": "I9ed6JS9pJM9"
      }
    },
    {
      "cell_type": "code",
      "source": [
        "import numpy as np"
      ],
      "metadata": {
        "id": "2lWCl9oppQ9J"
      },
      "execution_count": 2,
      "outputs": []
    },
    {
      "cell_type": "code",
      "execution_count": 3,
      "metadata": {
        "colab": {
          "base_uri": "https://localhost:8080/"
        },
        "id": "LHqJcD76pGSm",
        "outputId": "68f0d13c-d3a3-4fa0-d666-2480ee8cf9c0"
      },
      "outputs": [
        {
          "output_type": "execute_result",
          "data": {
            "text/plain": [
              "array([ 6, 12, 13,  9, 10, 12,  6, 16,  1, 17,  2, 13,  8, 14,  7])"
            ]
          },
          "metadata": {},
          "execution_count": 3
        }
      ],
      "source": [
        "np.random.seed(1)\n",
        "\n",
        "np.random.randint (1,21, size=15)"
      ]
    },
    {
      "cell_type": "code",
      "source": [
        "L = [i for i in np.random.randint (1,21, size=15) if i%2==0]\n",
        "L"
      ],
      "metadata": {
        "colab": {
          "base_uri": "https://localhost:8080/"
        },
        "id": "UW6kRbjypxol",
        "outputId": "f9c39588-3299-42e4-f028-b8e2603197d7"
      },
      "execution_count": 6,
      "outputs": [
        {
          "output_type": "execute_result",
          "data": {
            "text/plain": [
              "[6, 12, 10, 18, 14, 10, 10, 8]"
            ]
          },
          "metadata": {},
          "execution_count": 6
        }
      ]
    },
    {
      "cell_type": "code",
      "source": [
        "L = [i for i in np.random.randint (1,21, size=40) if i%2==0]\n",
        "L.sort()\n",
        "L"
      ],
      "metadata": {
        "colab": {
          "base_uri": "https://localhost:8080/"
        },
        "id": "OxBoN-nru1Ke",
        "outputId": "47ad4e49-17e9-40cd-a0f4-19e855eb2a2a"
      },
      "execution_count": 7,
      "outputs": [
        {
          "output_type": "execute_result",
          "data": {
            "text/plain": [
              "[2,\n",
              " 4,\n",
              " 4,\n",
              " 4,\n",
              " 6,\n",
              " 8,\n",
              " 8,\n",
              " 8,\n",
              " 10,\n",
              " 10,\n",
              " 12,\n",
              " 14,\n",
              " 14,\n",
              " 16,\n",
              " 16,\n",
              " 16,\n",
              " 18,\n",
              " 18,\n",
              " 18,\n",
              " 20,\n",
              " 20,\n",
              " 20]"
            ]
          },
          "metadata": {},
          "execution_count": 7
        }
      ]
    },
    {
      "cell_type": "code",
      "source": [
        "L.pop(1)"
      ],
      "metadata": {
        "colab": {
          "base_uri": "https://localhost:8080/"
        },
        "id": "mliMyH4ZvB7f",
        "outputId": "44cc9f68-4b63-4ed4-97a3-adc2ac3c78c8"
      },
      "execution_count": 13,
      "outputs": [
        {
          "output_type": "execute_result",
          "data": {
            "text/plain": [
              "4"
            ]
          },
          "metadata": {},
          "execution_count": 13
        }
      ]
    },
    {
      "cell_type": "code",
      "source": [
        "L.remove(6)"
      ],
      "metadata": {
        "id": "NE8ppLLZvSBP"
      },
      "execution_count": 16,
      "outputs": []
    },
    {
      "cell_type": "code",
      "source": [
        "L + [4]"
      ],
      "metadata": {
        "colab": {
          "base_uri": "https://localhost:8080/"
        },
        "id": "KLK_Yh08vWjm",
        "outputId": "fac990b5-e196-4a94-d946-7cee71861f79"
      },
      "execution_count": 10,
      "outputs": [
        {
          "output_type": "execute_result",
          "data": {
            "text/plain": [
              "[2, 4, 6, 8, 8, 8, 10, 10, 12, 14, 14, 16, 16, 16, 18, 18, 18, 20, 20, 20, 4]"
            ]
          },
          "metadata": {},
          "execution_count": 10
        }
      ]
    },
    {
      "cell_type": "code",
      "source": [
        "L"
      ],
      "metadata": {
        "colab": {
          "base_uri": "https://localhost:8080/"
        },
        "id": "vL8KzjZVvczR",
        "outputId": "05c1b15a-08ce-41e0-9b61-3e04c9ffe1a1"
      },
      "execution_count": 26,
      "outputs": [
        {
          "output_type": "execute_result",
          "data": {
            "text/plain": [
              "[2, 8, 8, 10, 10, 12, 14, 14, 16, 16, 16, 18, 18, 18, 20, 20, 20]"
            ]
          },
          "metadata": {},
          "execution_count": 26
        }
      ]
    },
    {
      "cell_type": "code",
      "source": [
        "L.pop(4)"
      ],
      "metadata": {
        "colab": {
          "base_uri": "https://localhost:8080/"
        },
        "id": "9tNVok8Qv1lj",
        "outputId": "40df6f29-2776-42b7-a2f7-cf5f5cbae8f8"
      },
      "execution_count": 53,
      "outputs": [
        {
          "output_type": "execute_result",
          "data": {
            "text/plain": [
              "16"
            ]
          },
          "metadata": {},
          "execution_count": 53
        }
      ]
    },
    {
      "cell_type": "code",
      "source": [
        "L_arreglo =np.array(L)\n",
        "L_arreglo"
      ],
      "metadata": {
        "colab": {
          "base_uri": "https://localhost:8080/"
        },
        "id": "hjFwOoeHwYW2",
        "outputId": "b07586d6-9dee-46e6-d062-1f2775819d33"
      },
      "execution_count": 54,
      "outputs": [
        {
          "output_type": "execute_result",
          "data": {
            "text/plain": [
              "array([ 2,  8, 12, 16, 18, 18, 18, 20, 20])"
            ]
          },
          "metadata": {},
          "execution_count": 54
        }
      ]
    },
    {
      "cell_type": "code",
      "source": [
        "len(L_arreglo)"
      ],
      "metadata": {
        "colab": {
          "base_uri": "https://localhost:8080/"
        },
        "id": "p3BZVTVGxOrX",
        "outputId": "d94fc578-f358-41f4-d9e7-76c0eca50bf6"
      },
      "execution_count": 55,
      "outputs": [
        {
          "output_type": "execute_result",
          "data": {
            "text/plain": [
              "9"
            ]
          },
          "metadata": {},
          "execution_count": 55
        }
      ]
    },
    {
      "cell_type": "code",
      "source": [
        "L_matriz= L_arreglo.reshape(3,3)"
      ],
      "metadata": {
        "id": "r143AX6Jz5Qq"
      },
      "execution_count": 60,
      "outputs": []
    },
    {
      "cell_type": "code",
      "source": [
        "M_matriz = np.array([2,3,14,19,13,0,25,6,9]).reshape(3,3)\n",
        "M_matriz"
      ],
      "metadata": {
        "colab": {
          "base_uri": "https://localhost:8080/"
        },
        "id": "2IVnPsIc1A1F",
        "outputId": "3f67f24c-062e-452c-c99b-414427419530"
      },
      "execution_count": 59,
      "outputs": [
        {
          "output_type": "execute_result",
          "data": {
            "text/plain": [
              "array([[ 2,  3, 14],\n",
              "       [19, 13,  0],\n",
              "       [25,  6,  9]])"
            ]
          },
          "metadata": {},
          "execution_count": 59
        }
      ]
    },
    {
      "cell_type": "code",
      "source": [
        "N= L_matriz @ M_matriz\n",
        "N"
      ],
      "metadata": {
        "colab": {
          "base_uri": "https://localhost:8080/"
        },
        "id": "8IRgel1z30hF",
        "outputId": "7eefa9ae-aa08-4cbf-a851-355d8959d859"
      },
      "execution_count": 61,
      "outputs": [
        {
          "output_type": "execute_result",
          "data": {
            "text/plain": [
              "array([[456, 182, 136],\n",
              "       [824, 390, 386],\n",
              "       [916, 434, 432]])"
            ]
          },
          "metadata": {},
          "execution_count": 61
        }
      ]
    },
    {
      "cell_type": "code",
      "source": [
        "np.linalg.det(N)"
      ],
      "metadata": {
        "colab": {
          "base_uri": "https://localhost:8080/"
        },
        "id": "HCit8rf45VEp",
        "outputId": "d71be806-1dcd-43cf-bef5-1e1b08270da4"
      },
      "execution_count": 62,
      "outputs": [
        {
          "output_type": "execute_result",
          "data": {
            "text/plain": [
              "51727.99999999955"
            ]
          },
          "metadata": {},
          "execution_count": 62
        }
      ]
    }
  ]
}